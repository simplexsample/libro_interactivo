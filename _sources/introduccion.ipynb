{
 "cells": [
  {
   "cell_type": "markdown",
   "metadata": {},
   "source": [
    "# Introduccion al aprendizaje interactivo"
   ]
  },
  {
   "cell_type": "markdown",
   "metadata": {},
   "source": [
    "Que es este lugar?\n",
    "\n",
    "\n",
    "- Tener un espacio para poder experimentar\n",
    "\n",
    "En que sentido *experimentar*?\n",
    "\n",
    "- Conocer y aprender formas del pensamiento computacional\n",
    "\n",
    "- Aprender a realizar trabajo colaborativo\n",
    "    - Conocer las herramientas, las metodologias y los distintos procesos    "
   ]
  },
  {
   "cell_type": "markdown",
   "metadata": {},
   "source": [
    "# Como puedo usar esto?"
   ]
  },
  {
   "cell_type": "markdown",
   "metadata": {},
   "source": [
    "# A quien esta dirigido?"
   ]
  }
 ],
 "metadata": {
  "kernelspec": {
   "display_name": "Python 3",
   "language": "python",
   "name": "python3"
  },
  "language_info": {
   "codemirror_mode": {
    "name": "ipython",
    "version": 3
   },
   "file_extension": ".py",
   "mimetype": "text/x-python",
   "name": "python",
   "nbconvert_exporter": "python",
   "pygments_lexer": "ipython3",
   "version": "3.8.5"
  }
 },
 "nbformat": 4,
 "nbformat_minor": 4
}
