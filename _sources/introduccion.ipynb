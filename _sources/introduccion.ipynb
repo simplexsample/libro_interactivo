{
 "cells": [
  {
   "cell_type": "markdown",
   "metadata": {},
   "source": [
    "# Introducción al aprendizaje interactivo"
   ]
  },
  {
   "cell_type": "markdown",
   "metadata": {},
   "source": [
    "¿Qué es este lugar?\n",
    "\n",
    "\n",
    "- Un espacio para poder experimentar\n",
    "\n",
    "¿En qué sentido *experimentar*?\n",
    "\n",
    "- Conocer y aprender formas del pensamiento computacional\n",
    "\n",
    "- Aprender a realizar trabajo colaborativo\n",
    "- Conocer las herramientas, las metodologías y los distintos procesos necesarios para poder colaborar"
   ]
  },
  {
   "cell_type": "markdown",
   "metadata": {},
   "source": [
    "# ¿Cómo puedo usar esto?\n",
    "\n",
    "- Como fuente de inspiracion para crear tu propio proyecto\n",
    "- Como espacio para aprender \n",
    "- Como un espacio para compartir tus conocimientos\n"
   ]
  },
  {
   "cell_type": "markdown",
   "metadata": {},
   "source": [
    "# ¿A quién está dirigido?\n",
    "\n",
    "- Quien quiera aprender a programar realizando mini tareas y explicando algo aplicado\n",
    "- Quien quiera aprender a utilizar las herramientas colaborativas y sus procesos\n",
    "- Quien quiera aprender buenas practicas de desarrollo y armado de material educativo\n",
    "\n",
    "- Quien quiera enseñar un tema especifico aprovechando la interactividad\n",
    "- Quien quiera experimentar nuevas formas de generar material\n",
    "\n",
    "Bueno, se dan una idea ...\n"
   ]
  },
  {
   "source": [
    "## Ya existen muchos projectos colaborativos, ¿qué diferencia a éste?\n",
    "\n",
    "Si, existen varios projectos colaborativos donde se genera mucho material como (https://www.wikipedia.org/) o https://www.algorithm-archive.org/, pero el foco de estos proyectos es el contenido.\n",
    "\n",
    "Acá lo que nos importa es el proceso de cómo generar el contenido y qué este contenido sea solo una excusa para aprender otras habilidades y herramientas.\n"
   ],
   "cell_type": "markdown",
   "metadata": {}
  }
 ],
 "metadata": {
  "kernelspec": {
   "display_name": "Python 3",
   "language": "python",
   "name": "python3"
  },
  "language_info": {
   "codemirror_mode": {
    "name": "ipython",
    "version": 3
   },
   "file_extension": ".py",
   "mimetype": "text/x-python",
   "name": "python",
   "nbconvert_exporter": "python",
   "pygments_lexer": "ipython3",
   "version": "3.8.5"
  }
 },
 "nbformat": 4,
 "nbformat_minor": 4
}